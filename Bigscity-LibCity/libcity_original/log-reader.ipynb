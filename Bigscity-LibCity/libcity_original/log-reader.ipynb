{
 "cells": [
  {
   "cell_type": "code",
   "execution_count": 3,
   "id": "1c5085ef",
   "metadata": {},
   "outputs": [],
   "source": [
    "import pandas as pd"
   ]
  },
  {
   "cell_type": "code",
   "execution_count": 4,
   "id": "ef695c11",
   "metadata": {},
   "outputs": [],
   "source": [
    "import os"
   ]
  },
  {
   "cell_type": "code",
   "execution_count": null,
   "id": "17f103cd",
   "metadata": {},
   "outputs": [],
   "source": []
  },
  {
   "cell_type": "code",
   "execution_count": 5,
   "id": "1c2112a7",
   "metadata": {},
   "outputs": [],
   "source": [
    "import json"
   ]
  },
  {
   "cell_type": "code",
   "execution_count": null,
   "id": "c608010b",
   "metadata": {},
   "outputs": [],
   "source": []
  },
  {
   "cell_type": "code",
   "execution_count": null,
   "id": "29ae0129",
   "metadata": {},
   "outputs": [],
   "source": []
  },
  {
   "cell_type": "code",
   "execution_count": null,
   "id": "249eda3b",
   "metadata": {},
   "outputs": [],
   "source": []
  },
  {
   "cell_type": "code",
   "execution_count": 28,
   "id": "80ceac3f",
   "metadata": {},
   "outputs": [],
   "source": [
    "def convert_result(lines):\n",
    "    data_str = lines[2].split(' - INFO - ')[1][:-1]\n",
    "    new_str = ' '.join(data_str.split(' ')[:16] + \\\n",
    "                       ['\"sample\":\"sample\"}']).replace('\\'', '\\\"').replace('True', '\"True\"').replace('False', '\"False\"')\n",
    "    d = json.loads(new_str)\n",
    "    df = pd.DataFrame([m.split() for m in lines[-6:]], columns = ['step'] + lines[-7].split()).set_index('step')\n",
    "    \n",
    "    return d, df"
   ]
  },
  {
   "cell_type": "code",
   "execution_count": 29,
   "id": "1c406113",
   "metadata": {},
   "outputs": [
    {
     "name": "stdout",
     "output_type": "stream",
     "text": [
      "log_20241002_success_overall\n",
      "log_20241001\n",
      "log_wkgru_success\n",
      "log_wksttn_fail\n",
      "log_20241004_idn_volume\n",
      "log_wkdcrnn_success\n",
      "log_20241005_SGG_middle\n",
      "log_20241005_seoul_success\n",
      "log_20241006_only_gts_success\n",
      "log_20241006_seoul_only_gts_success\n",
      "log\n",
      "log_20240931\n",
      "log2\n",
      "log_20240930\n",
      "log_wkgts_middle\n",
      "log_241005_fail\n",
      "log_20241005_tempresult\n",
      "log_20241003_idn_success_overall\n",
      "log_wkgts_success\n",
      "log_20240924\n",
      "log_baseline\n",
      "log_20241006_newseoul2\n",
      "log_20241006_fail\n"
     ]
    }
   ],
   "source": [
    "for dirname in os.listdir('.'):\n",
    "    if dirname[:3] == 'log':\n",
    "        print (dirname)"
   ]
  },
  {
   "cell_type": "code",
   "execution_count": 277,
   "id": "40ec22cf",
   "metadata": {},
   "outputs": [
    {
     "name": "stdout",
     "output_type": "stream",
     "text": [
      "model\tdata\tlivepop\tstemb\tmae1    \tmae2    \tmae3    \tmae4    \tmae5    \tmae6    \n",
      "\n",
      "RNN\tSEOUL\tFalse\tFalse\t144.389130\t155.154480\t159.822083\t163.509735\t165.018448\t165.848892\n",
      "RNN\tSEOUL\tFalse\tTrue\t128.306625\t132.570526\t134.925369\t136.435333\t137.022171\t136.989380\n",
      "RNN\tSEOUL\tTrue\tFalse\t139.230270\t139.617508\t141.016205\t141.597610\t141.179565\t141.035660\n",
      "RNN\tSEOUL\tTrue\tTrue\t129.291412\t133.913940\t135.456543\t136.445999\t137.080276\t137.369095\n",
      "WKGTS\tSEOUL\tFalse\tFalse\t122.941902\t162.198502\t182.833176\t194.122437\t203.037430\t214.373993\n",
      "WKGTS\tSEOUL\tFalse\tTrue\t117.102264\t128.115814\t133.017944\t135.429108\t137.220184\t139.319626\n",
      "WKGTS\tSEOUL\tTrue\tFalse\t105.101257\t121.839989\t129.277802\t133.247849\t135.853546\t139.728836\n",
      "WKGTS\tSEOUL\tTrue\tTrue\t101.474976\t121.962173\t129.770645\t133.123199\t135.534424\t138.619232\n"
     ]
    }
   ],
   "source": [
    "pdir = 'log_20241006_only_gts_success'\n",
    "print_results = ''\n",
    "for fname in os.listdir(pdir):\n",
    "    with open(f'{pdir}/{fname}') as fp:\n",
    "        lines = [line for line in fp]\n",
    "    \n",
    "    try:\n",
    "        d, df = convert_result(lines)\n",
    "        vd = df.astype(float).mean(0)\n",
    "#         if d['livepop'] == 'True' and d['stemb'] == 'False':\n",
    "#             continue\n",
    "#         if d['stemb'] == 'True':\n",
    "#             continue\n",
    "        result_str = '\\t'.join([d['model'], d['dataset'], d['livepop'], d['stemb']] + df['MAE'].tolist())\n",
    "#         print(result_str)\n",
    "        print_results += result_str + '\\n'\n",
    "    except:\n",
    "        pass\n",
    "\n",
    "print('\\t'.join(['model', 'data', 'livepop', 'stemb', 'mae1    ', 'mae2    ', 'mae3    ', 'mae4    ', 'mae5    ', 'mae6    ']))\n",
    "print('\\n'.join(sorted(print_results.split('\\n'))))"
   ]
  },
  {
   "cell_type": "code",
   "execution_count": null,
   "id": "0df7f6a2",
   "metadata": {},
   "outputs": [],
   "source": []
  },
  {
   "cell_type": "code",
   "execution_count": null,
   "id": "ff9404c3",
   "metadata": {},
   "outputs": [],
   "source": []
  },
  {
   "cell_type": "code",
   "execution_count": null,
   "id": "e51a4244",
   "metadata": {},
   "outputs": [],
   "source": []
  },
  {
   "cell_type": "code",
   "execution_count": null,
   "id": "8fbcddba",
   "metadata": {},
   "outputs": [],
   "source": []
  }
 ],
 "metadata": {
  "kernelspec": {
   "display_name": "libcity",
   "language": "python",
   "name": "libcity"
  },
  "language_info": {
   "codemirror_mode": {
    "name": "ipython",
    "version": 3
   },
   "file_extension": ".py",
   "mimetype": "text/x-python",
   "name": "python",
   "nbconvert_exporter": "python",
   "pygments_lexer": "ipython3",
   "version": "3.7.12"
  }
 },
 "nbformat": 4,
 "nbformat_minor": 5
}
