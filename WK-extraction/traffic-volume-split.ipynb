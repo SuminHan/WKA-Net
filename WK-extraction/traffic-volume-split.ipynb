{
 "cells": [
  {
   "cell_type": "code",
   "execution_count": 1,
   "id": "f8ddeb21",
   "metadata": {},
   "outputs": [],
   "source": [
    "# link: https://github.com/liyaguang/DCRNN\n",
    "import numpy as np\n",
    "import pandas as pd\n",
    "import json"
   ]
  },
  {
   "cell_type": "code",
   "execution_count": 2,
   "id": "2d639e52",
   "metadata": {},
   "outputs": [],
   "source": [
    "import os\n",
    "import pandas as pd\n",
    "import geopandas as gpd\n",
    "import tqdm\n",
    "import datetime\n",
    "import numpy as np\n",
    "import matplotlib.pyplot as plt\n",
    "from cartoframes.viz import *\n",
    "from tqdm import notebook"
   ]
  },
  {
   "cell_type": "code",
   "execution_count": 3,
   "id": "fe57bc32",
   "metadata": {},
   "outputs": [],
   "source": [
    "def ensure_dir(dir_path):\n",
    "    \"\"\"Make sure the directory exists, if it does not exist, create it.\n",
    "\n",
    "    Args:\n",
    "        dir_path (str): directory path\n",
    "    \"\"\"\n",
    "    if not os.path.exists(dir_path):\n",
    "        os.makedirs(dir_path)"
   ]
  },
  {
   "cell_type": "code",
   "execution_count": 4,
   "id": "9bdc3749",
   "metadata": {},
   "outputs": [],
   "source": [
    "import os\n",
    "import datetime\n",
    "# link: https://github.com/liyaguang/DCRNN\n",
    "import numpy as np\n",
    "import pandas as pd\n",
    "import json\n",
    "\n",
    "dataset_name = 'SVOL'\n",
    "outputdir = f'../Bigscity-LibCity/raw_data/{dataset_name}'\n",
    "ensure_dir(outputdir)\n",
    "dataname = outputdir+f'/{dataset_name}'\n",
    "\n",
    "P_SEQ = 6\n",
    "Q_SEQ = 6"
   ]
  },
  {
   "cell_type": "code",
   "execution_count": 5,
   "id": "d77d2f03",
   "metadata": {},
   "outputs": [
    {
     "data": {
      "text/plain": [
       "['floating-population-2017-a20.csv',\n",
       " 'floating-population-2017-a30.csv',\n",
       " 'floating-population-2017-a40.csv',\n",
       " 'floating-population-2017-a50.csv',\n",
       " 'floating-population-2017-a60.csv',\n",
       " 'floating-population-2017-total.csv',\n",
       " 'floating-population-2018-a20.csv',\n",
       " 'floating-population-2018-a30.csv',\n",
       " 'floating-population-2018-a40.csv',\n",
       " 'floating-population-2018-a50.csv',\n",
       " 'floating-population-2018-a60.csv',\n",
       " 'floating-population-2018-total.csv',\n",
       " 'local_people_area.geojson',\n",
       " 'seoul_link_network.geojson',\n",
       " 'speed-2017.csv',\n",
       " 'speed-2018.csv',\n",
       " 'subway-data-off-2017.csv',\n",
       " 'subway-data-off-2018.csv',\n",
       " 'subway-data-on-2017.csv',\n",
       " 'subway-data-on-2018.csv',\n",
       " 'volume_data_2017.csv',\n",
       " 'volume_data_2018.csv',\n",
       " 'volume_data_edit_2017.csv',\n",
       " 'volume_data_edit_2018.csv',\n",
       " 'vsensor_locations.geojson']"
      ]
     },
     "execution_count": 5,
     "metadata": {},
     "output_type": "execute_result"
    }
   ],
   "source": [
    "sorted(os.listdir('../dataprocess/seouldata'))"
   ]
  },
  {
   "cell_type": "code",
   "execution_count": 6,
   "id": "324600b8",
   "metadata": {},
   "outputs": [],
   "source": [
    "vol_df = pd.concat([\n",
    "    pd.read_csv('../dataprocess/seouldata/volume_data_2017.csv', index_col=0),\n",
    "    pd.read_csv('../dataprocess/seouldata/volume_data_2018.csv', index_col=0)\n",
    "])\n",
    "\n",
    "vol_df.index = pd.to_datetime(vol_df.index)\n",
    "vol_df = vol_df.fillna(0)\n",
    "vol_df = vol_df.iloc[:, (np.sum(np.isnan(vol_df), 0) + (np.sum(vol_df==0)) < 1000).tolist()]"
   ]
  },
  {
   "cell_type": "code",
   "execution_count": 18,
   "id": "7c4199ae",
   "metadata": {},
   "outputs": [],
   "source": [
    "assert len(vol_df) == 24*(365+365)"
   ]
  },
  {
   "cell_type": "code",
   "execution_count": 7,
   "id": "c4d4de29",
   "metadata": {},
   "outputs": [],
   "source": [
    "data = vol_df.values\n",
    "for i in range(data.shape[0]):\n",
    "    for j in range(data.shape[1]):\n",
    "        if data[i, j] == 0:\n",
    "            val1 = 0\n",
    "            val2 = 0\n",
    "            loop = 0\n",
    "            while val1 == 0:\n",
    "                loop += 24*7\n",
    "                if i - loop < 0:\n",
    "                    break\n",
    "                val1 = data[i - loop, j]\n",
    "            loop = 0\n",
    "            while val2 == 0:\n",
    "                loop += 24*7\n",
    "                if i + loop >= data.shape[0]:\n",
    "                    val2 = val1\n",
    "                    break\n",
    "                val2 = data[i + loop, j]\n",
    "            if val1 == 0:\n",
    "                val1 = val2\n",
    "            data[i, j] = (val1 + val2) / 2"
   ]
  },
  {
   "cell_type": "code",
   "execution_count": 8,
   "id": "1ef78003",
   "metadata": {},
   "outputs": [
    {
     "data": {
      "text/plain": [
       "(17520, 73)"
      ]
     },
     "execution_count": 8,
     "metadata": {},
     "output_type": "execute_result"
    }
   ],
   "source": [
    "data.shape"
   ]
  },
  {
   "cell_type": "code",
   "execution_count": 9,
   "id": "0446813e",
   "metadata": {},
   "outputs": [
    {
     "data": {
      "text/plain": [
       "[<matplotlib.lines.Line2D at 0x7f5328dffd60>]"
      ]
     },
     "execution_count": 9,
     "metadata": {},
     "output_type": "execute_result"
    },
    {
     "data": {
      "image/png": "[encoded data removed]",
      "text/plain": [
       "<Figure size 640x480 with 1 Axes>"
      ]
     },
     "metadata": {},
     "output_type": "display_data"
    }
   ],
   "source": [
    "plt.plot(data[:, 64])"
   ]
  },
  {
   "cell_type": "code",
   "execution_count": 10,
   "id": "9ea77eff",
   "metadata": {},
   "outputs": [],
   "source": [
    "data_df = pd.DataFrame(data, columns=vol_df.columns, index=vol_df.index)"
   ]
  },
  {
   "cell_type": "code",
   "execution_count": 11,
   "id": "4edd661c",
   "metadata": {},
   "outputs": [],
   "source": [
    "network_gdf = gpd.read_file('../dataprocess/seouldata/vsensor_locations.geojson')"
   ]
  },
  {
   "cell_type": "code",
   "execution_count": 12,
   "id": "50a22f2a",
   "metadata": {},
   "outputs": [],
   "source": [
    "##################\n",
    "idset = set()\n",
    "geo = []\n",
    "for _, sensor in network_gdf.iterrows():\n",
    "    for io in ['I', 'O']:\n",
    "        id = f\"{sensor['spot_num']}-{io}\"\n",
    "        lat = sensor.geometry.y\n",
    "        lon = sensor.geometry.x\n",
    "        if id not in idset:\n",
    "            idset.add(id)\n",
    "            geo.append([id, 'Point', '['+str(lon)+', '+str(lat)+']'])\n",
    "        \n",
    "geo = pd.DataFrame(geo, columns=['geo_id', 'type', 'coordinates'])\n",
    "geo = geo[geo['geo_id'].isin(data_df.columns)]\n",
    "geo.to_csv(dataname+'.geo', index=False)"
   ]
  },
  {
   "cell_type": "code",
   "execution_count": 13,
   "id": "ee5afe14",
   "metadata": {},
   "outputs": [],
   "source": [
    "import shapely\n",
    "item_list = []\n",
    "for _, item in geo.iterrows():\n",
    "    itemdict = dict(item)\n",
    "    itemdict['geometry'] = shapely.Point([float(v) for v in itemdict['coordinates'][1:-1].split(',')])    \n",
    "    item_list.append(itemdict)\n",
    "again_gdf = gpd.GeoDataFrame(item_list)\n",
    "again_gdf.crs = 'epsg:4326'\n",
    "again_5181_gdf = again_gdf.to_crs('epsg:5181')"
   ]
  },
  {
   "cell_type": "code",
   "execution_count": 14,
   "id": "626a1da8",
   "metadata": {},
   "outputs": [],
   "source": [
    "#############################\n",
    "rel = []\n",
    "reldict = dict()\n",
    "\n",
    "for _, geo1 in again_5181_gdf.iterrows():\n",
    "    for _, geo2 in again_5181_gdf.iterrows():\n",
    "        sid, eid, cost = geo1.geo_id, geo2.geo_id, geo1.geometry.distance(geo2.geometry)\n",
    "        if sid not in idset or eid not in idset:\n",
    "            continue\n",
    "        if cost == 0:\n",
    "            continue\n",
    "        if (sid, eid) not in reldict:\n",
    "            reldict[(sid, eid)] = len(reldict)\n",
    "            rel.append([len(reldict) - 1, 'geo', sid, eid, cost])\n",
    "            \n",
    "rel = pd.DataFrame(rel, columns=['rel_id', 'type', 'origin_id', 'destination_id', 'cost'])\n",
    "rel.to_csv(dataname+'.rel', index=False)"
   ]
  },
  {
   "cell_type": "code",
   "execution_count": 15,
   "id": "1b30a749",
   "metadata": {},
   "outputs": [],
   "source": [
    "data_df.index = pd.to_datetime(data_df.index)\n",
    "data_df.to_hdf(dataname + '_ALL.hdf', key='df')"
   ]
  },
  {
   "cell_type": "code",
   "execution_count": 16,
   "id": "8d710dbc",
   "metadata": {},
   "outputs": [
    {
     "name": "stdout",
     "output_type": "stream",
     "text": [
      "10000/1278960\n",
      "20000/1278960\n",
      "30000/1278960\n",
      "40000/1278960\n",
      "50000/1278960\n",
      "60000/1278960\n",
      "70000/1278960\n",
      "80000/1278960\n",
      "90000/1278960\n",
      "100000/1278960\n",
      "110000/1278960\n",
      "120000/1278960\n",
      "130000/1278960\n",
      "140000/1278960\n",
      "150000/1278960\n",
      "160000/1278960\n",
      "170000/1278960\n",
      "180000/1278960\n",
      "190000/1278960\n",
      "200000/1278960\n",
      "210000/1278960\n",
      "220000/1278960\n",
      "230000/1278960\n",
      "240000/1278960\n",
      "250000/1278960\n",
      "260000/1278960\n",
      "270000/1278960\n",
      "280000/1278960\n",
      "290000/1278960\n",
      "300000/1278960\n",
      "310000/1278960\n",
      "320000/1278960\n",
      "330000/1278960\n",
      "340000/1278960\n",
      "350000/1278960\n",
      "360000/1278960\n",
      "370000/1278960\n",
      "380000/1278960\n",
      "390000/1278960\n",
      "400000/1278960\n",
      "410000/1278960\n",
      "420000/1278960\n",
      "430000/1278960\n",
      "440000/1278960\n",
      "450000/1278960\n",
      "460000/1278960\n",
      "470000/1278960\n",
      "480000/1278960\n",
      "490000/1278960\n",
      "500000/1278960\n",
      "510000/1278960\n",
      "520000/1278960\n",
      "530000/1278960\n",
      "540000/1278960\n",
      "550000/1278960\n",
      "560000/1278960\n",
      "570000/1278960\n",
      "580000/1278960\n",
      "590000/1278960\n",
      "600000/1278960\n",
      "610000/1278960\n",
      "620000/1278960\n",
      "630000/1278960\n",
      "640000/1278960\n",
      "650000/1278960\n",
      "660000/1278960\n",
      "670000/1278960\n",
      "680000/1278960\n",
      "690000/1278960\n",
      "700000/1278960\n",
      "710000/1278960\n",
      "720000/1278960\n",
      "730000/1278960\n",
      "740000/1278960\n",
      "750000/1278960\n",
      "760000/1278960\n",
      "770000/1278960\n",
      "780000/1278960\n",
      "790000/1278960\n",
      "800000/1278960\n",
      "810000/1278960\n",
      "820000/1278960\n",
      "830000/1278960\n",
      "840000/1278960\n",
      "850000/1278960\n",
      "860000/1278960\n",
      "870000/1278960\n",
      "880000/1278960\n",
      "890000/1278960\n",
      "900000/1278960\n",
      "910000/1278960\n",
      "920000/1278960\n",
      "930000/1278960\n",
      "940000/1278960\n",
      "950000/1278960\n",
      "960000/1278960\n",
      "970000/1278960\n",
      "980000/1278960\n",
      "990000/1278960\n",
      "1000000/1278960\n",
      "1010000/1278960\n",
      "1020000/1278960\n",
      "1030000/1278960\n",
      "1040000/1278960\n",
      "1050000/1278960\n",
      "1060000/1278960\n",
      "1070000/1278960\n",
      "1080000/1278960\n",
      "1090000/1278960\n",
      "1100000/1278960\n",
      "1110000/1278960\n",
      "1120000/1278960\n",
      "1130000/1278960\n",
      "1140000/1278960\n",
      "1150000/1278960\n",
      "1160000/1278960\n",
      "1170000/1278960\n",
      "1180000/1278960\n",
      "1190000/1278960\n",
      "1200000/1278960\n",
      "1210000/1278960\n",
      "1220000/1278960\n",
      "1230000/1278960\n",
      "1240000/1278960\n",
      "1250000/1278960\n",
      "1260000/1278960\n",
      "1270000/1278960\n"
     ]
    }
   ],
   "source": [
    "df = pd.read_hdf(dataname + '_ALL.hdf', key='df')\n",
    "seniorlist = list(df.columns)\n",
    "timeslot = pd.to_datetime(df.index)\n",
    "dataset = pd.DataFrame(df.values, columns=seniorlist)\n",
    "\n",
    "# dyna = []\n",
    "dyna_id = 0\n",
    "dyna_file = open(dataname+'.dyna', 'w')\n",
    "dyna_file.write('dyna_id' + ',' + 'type' + ',' + 'time' + ',' + 'entity_id' + ',' + 'traffic_speed' + '\\n')\n",
    "for j in range(len(seniorlist)):\n",
    "    entity_id = seniorlist[j]\n",
    "    for i in range(timeslot.shape[0]):\n",
    "#         time = str(timeslot[i])[:-10]+'Z'\n",
    "        time = str(timeslot[i])+'Z'\n",
    "        # dyna.append([dyna_id, 'state', time, entity_id, dataset[seniorlist[j]][i]])\n",
    "        dyna_file.write(str(dyna_id) + ',' + 'state' + ',' + str(time)\n",
    "                        + ',' + str(entity_id) + ',' + str(dataset[seniorlist[j]][i]) + '\\n')\n",
    "        dyna_id = dyna_id + 1\n",
    "        if dyna_id % 10000 == 0:\n",
    "            print(str(dyna_id) + '/' + str(timeslot.shape[0]*len(seniorlist)))\n",
    "dyna_file.close()\n",
    "# dyna = pd.DataFrame(dyna, columns=['dyna_id', 'type', 'time', 'entity_id', 'traffic_speed'])\n",
    "# dyna.to_csv(dataname+'.dyna', index=False)\n",
    "\n",
    "\n",
    "config = dict()\n",
    "config['geo'] = dict()\n",
    "config['geo']['including_types'] = ['Point']\n",
    "config['geo']['Point'] = {}\n",
    "config['rel'] = dict()\n",
    "config['rel']['including_types'] = ['geo']\n",
    "config['rel']['geo'] = {'cost': 'num'}\n",
    "config['dyna'] = dict()\n",
    "config['dyna']['including_types'] = ['state']\n",
    "config['dyna']['state'] = {'entity_id': 'geo_id', 'traffic_speed': 'num'}\n",
    "config['info'] = dict()\n",
    "config['info']['data_col'] = 'traffic_speed'\n",
    "config['info']['weight_col'] = 'cost'\n",
    "config['info']['data_files'] = [dataset_name]\n",
    "config['info']['geo_file'] = dataset_name\n",
    "config['info']['rel_file'] = dataset_name\n",
    "config['info']['output_dim'] = 1\n",
    "config['info']['time_intervals'] = 300\n",
    "config['info']['init_weight_inf_or_zero'] = 'inf'\n",
    "config['info']['set_weight_link_or_dist'] = 'dist'\n",
    "config['info']['calculate_weight_adj'] = True\n",
    "config['info']['weight_adj_epsilon'] = 0.1\n",
    "json.dump(config, open(outputdir+'/config.json', 'w', encoding='utf-8'), ensure_ascii=False)"
   ]
  },
  {
   "cell_type": "code",
   "execution_count": null,
   "id": "70f7a5f2",
   "metadata": {},
   "outputs": [],
   "source": []
  }
 ],
 "metadata": {
  "kernelspec": {
   "display_name": "CIKM",
   "language": "python",
   "name": "cikm"
  },
  "language_info": {
   "codemirror_mode": {
    "name": "ipython",
    "version": 3
   },
   "file_extension": ".py",
   "mimetype": "text/x-python",
   "name": "python",
   "nbconvert_exporter": "python",
   "pygments_lexer": "ipython3",
   "version": "3.10.0"
  }
 },
 "nbformat": 4,
 "nbformat_minor": 5
}
